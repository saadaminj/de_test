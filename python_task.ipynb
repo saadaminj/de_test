{
 "cells": [
  {
   "cell_type": "code",
   "execution_count": 5,
   "id": "22206ea2",
   "metadata": {},
   "outputs": [],
   "source": [
    "import pandas as pd\n",
    "import numpy as np"
   ]
  },
  {
   "cell_type": "code",
   "execution_count": 6,
   "id": "e062f036",
   "metadata": {},
   "outputs": [],
   "source": [
    "df=pd.read_excel('sample physician information.xlsx')"
   ]
  },
  {
   "cell_type": "code",
   "execution_count": 7,
   "id": "0de84688",
   "metadata": {},
   "outputs": [
    {
     "name": "stdout",
     "output_type": "stream",
     "text": [
      "                                    Fulll Information\n",
      "0   Ghumman, Simranjit Singh (CPSO#: 111515)\\n    ...\n",
      "1   Ghura, Parminder Singh (CPSO#: 111423)\\n      ...\n",
      "2   Gianforcaro, Alexandro (CPSO#: 115999)\\n      ...\n",
      "3   Giannopoulos, Aris (CPSO#: 111083)\\n          ...\n",
      "4   Gibara, Magdy Raymond Beshara (CPSO#: 73263)\\n...\n",
      "5   Gibb, Paul Stewart (CPSO#: 69947)\\n           ...\n",
      "6   Gibb, Robert Alan (CPSO#: 31786)\\n            ...\n",
      "7   Gibbons Gomez, Paul (CPSO#: 94483)\\n          ...\n",
      "8   Gibbs, Laurence Hadley Stuart (CPSO#: 33538)\\n...\n",
      "9   Gibson, Andrew Robert (CPSO#: 116581)\\n       ...\n",
      "10  Gibson, John Wallace (CPSO#: 29076)\\n         ...\n"
     ]
    }
   ],
   "source": [
    "print(df)"
   ]
  },
  {
   "cell_type": "code",
   "execution_count": 46,
   "id": "086fa667",
   "metadata": {},
   "outputs": [],
   "source": [
    "column_names=['Names']\n",
    "df_name=pd.DataFrame(columns=column_names)\n",
    "dict1={'cpso_number':[],'names':[],'Phone_number':[]}"
   ]
  },
  {
   "cell_type": "code",
   "execution_count": 16,
   "id": "3f220317",
   "metadata": {},
   "outputs": [],
   "source": [
    "import regex as r\n",
    "import re"
   ]
  },
  {
   "cell_type": "code",
   "execution_count": 54,
   "id": "5e841e49",
   "metadata": {},
   "outputs": [
    {
     "name": "stdout",
     "output_type": "stream",
     "text": [
      "--------------\n",
      "--------------\n",
      "--------------\n",
      "--------------\n",
      "--------------\n",
      "--------------\n",
      "--------------\n",
      "--------------\n",
      "--------------\n",
      "--------------\n",
      "--------------\n",
      "{'cpso_number': [['111515'], ['111423'], ['115999'], ['111083'], ['73263'], ['69947'], ['31786'], ['94483'], ['33538'], ['116581'], ['29076'], ['111515'], ['111423'], ['115999'], ['111083'], ['73263'], ['69947'], ['31786'], ['94483'], ['33538'], ['116581'], ['29076']], 'names': ['Ghumman, Simranjit Singh ', 'Ghura, Parminder Singh ', 'Gianforcaro, Alexandro ', 'Giannopoulos, Aris ', 'Gibara, Magdy Raymond Beshara ', 'Gibb, Paul Stewart ', 'Gibb, Robert Alan ', 'Gibbons Gomez, Paul ', 'Gibbs, Laurence Hadley Stuart ', 'Gibson, Andrew Robert ', 'Gibson, John Wallace ', 'Ghumman, Simranjit Singh ', 'Ghura, Parminder Singh ', 'Gianforcaro, Alexandro ', 'Giannopoulos, Aris ', 'Gibara, Magdy Raymond Beshara ', 'Gibb, Paul Stewart ', 'Gibb, Robert Alan ', 'Gibbons Gomez, Paul ', 'Gibbs, Laurence Hadley Stuart ', 'Gibson, Andrew Robert ', 'Gibson, John Wallace '], 'Phone_number': ['450 699 0539', '519 579 0589', '905 724 0061 855 862 1489', '4164669908', '905 845 4039 905 845 6795', '705 560 1018 705 566 7617', '519 257 2020', '905 883 1212', '519 296 5807 519 296 4887', '6139384240', '416 604 3361 416 604 3367', '450 699 0539', '519 579 0589', '905 724 0061 855 862 1489', '4164669908', '905 845 4039 905 845 6795', '705 560 1018 705 566 7617', '519 257 2020', '905 883 1212', '519 296 5807 519 296 4887', '6139384240', '416 604 3361 416 604 3367']}\n",
      "Gibson, John Wallace \n"
     ]
    }
   ],
   "source": [
    "i=0\n",
    "for x in df['Fulll Information']:\n",
    "    print('--------------')\n",
    "    l1=[]\n",
    "    cpso_str=x.split('CPSO#:', 1)[1]\n",
    "    cpso_str=cpso_str.split('Location',1)[0]\n",
    "    cpso_str=re.findall(r'\\d+',cpso_str)\n",
    "    dict1['cpso_number'].append(cpso_str)\n",
    "  #  if(x.split('Specialization:', 1)[1]==True):\n",
    "    Aos=x.split('Phone:', 1)[1]\n",
    "    Aos=Aos.split('Area',1)[0]\n",
    "    Aos=re.findall(r'\\d+',Aos)\n",
    "    Aos1=' '.join(str(k) for k in Aos)\n",
    " #   print(Aos)x.split('Specialization:', 1)[1]\n",
    "    #aos=re.search(x,\"(?<=Phone\\s*)[0-9]{7}(?=;)\")\n",
    "    #Aos=re.search(x,\"(?>=Specialization:\\s).[0-9]+\")\n",
    "    #Aos=Aos.split('Area',1)[0]\n",
    "    dict1['Phone_number'].append(Aos1)\n",
    "    \n",
    "    l1.append(x.split('(', 1)[0])\n",
    "  #  print(l1\n",
    "    l2=','.join(str(b) for b in l1)\n",
    "    dict1['names'].append(l2)\n",
    "    #print(x)\n",
    "    #for y in x:\n",
    "    #    print(y)\n",
    "print(dict1)\n",
    "print(l2)\n",
    "        \n",
    "            "
   ]
  },
  {
   "cell_type": "code",
   "execution_count": 55,
   "id": "63407d5d",
   "metadata": {},
   "outputs": [],
   "source": [
    "df2 = pd.DataFrame.from_dict(dict1)"
   ]
  },
  {
   "cell_type": "code",
   "execution_count": 59,
   "id": "f20821cc",
   "metadata": {},
   "outputs": [],
   "source": [
    "df2 = df2.transpose()"
   ]
  },
  {
   "cell_type": "code",
   "execution_count": 60,
   "id": "b188cba7",
   "metadata": {},
   "outputs": [
    {
     "name": "stdout",
     "output_type": "stream",
     "text": [
      "   cpso_number                           names               Phone_number\n",
      "0     [111515]       Ghumman, Simranjit Singh                450 699 0539\n",
      "1     [111423]         Ghura, Parminder Singh                519 579 0589\n",
      "2     [115999]         Gianforcaro, Alexandro   905 724 0061 855 862 1489\n",
      "3     [111083]             Giannopoulos, Aris                  4164669908\n",
      "4      [73263]  Gibara, Magdy Raymond Beshara   905 845 4039 905 845 6795\n",
      "5      [69947]             Gibb, Paul Stewart   705 560 1018 705 566 7617\n",
      "6      [31786]              Gibb, Robert Alan                519 257 2020\n",
      "7      [94483]            Gibbons Gomez, Paul                905 883 1212\n",
      "8      [33538]  Gibbs, Laurence Hadley Stuart   519 296 5807 519 296 4887\n",
      "9     [116581]          Gibson, Andrew Robert                  6139384240\n",
      "10     [29076]           Gibson, John Wallace   416 604 3361 416 604 3367\n",
      "11    [111515]       Ghumman, Simranjit Singh                450 699 0539\n",
      "12    [111423]         Ghura, Parminder Singh                519 579 0589\n",
      "13    [115999]         Gianforcaro, Alexandro   905 724 0061 855 862 1489\n",
      "14    [111083]             Giannopoulos, Aris                  4164669908\n",
      "15     [73263]  Gibara, Magdy Raymond Beshara   905 845 4039 905 845 6795\n",
      "16     [69947]             Gibb, Paul Stewart   705 560 1018 705 566 7617\n",
      "17     [31786]              Gibb, Robert Alan                519 257 2020\n",
      "18     [94483]            Gibbons Gomez, Paul                905 883 1212\n",
      "19     [33538]  Gibbs, Laurence Hadley Stuart   519 296 5807 519 296 4887\n",
      "20    [116581]          Gibson, Andrew Robert                  6139384240\n",
      "21     [29076]           Gibson, John Wallace   416 604 3361 416 604 3367\n"
     ]
    }
   ],
   "source": [
    "print(df2)"
   ]
  },
  {
   "cell_type": "code",
   "execution_count": 61,
   "id": "a293a70b",
   "metadata": {},
   "outputs": [],
   "source": [
    "df2.to_excel('patients_records.xlsx')"
   ]
  }
 ],
 "metadata": {
  "kernelspec": {
   "display_name": "Python 3",
   "language": "python",
   "name": "python3"
  },
  "language_info": {
   "codemirror_mode": {
    "name": "ipython",
    "version": 3
   },
   "file_extension": ".py",
   "mimetype": "text/x-python",
   "name": "python",
   "nbconvert_exporter": "python",
   "pygments_lexer": "ipython3",
   "version": "3.8.8"
  }
 },
 "nbformat": 4,
 "nbformat_minor": 5
}
